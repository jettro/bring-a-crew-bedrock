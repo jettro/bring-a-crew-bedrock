{
 "cells": [
  {
   "cell_type": "code",
   "id": "initial_id",
   "metadata": {
    "collapsed": true
   },
   "source": [
    "import uuid\n",
    "\n",
    "import boto3\n",
    "from dotenv import load_dotenv\n",
    "\n",
    "from bring_a_crew_bedrock.inline_agent_utils import invoke_inline_agent_helper, load_json_file\n",
    "\n",
    "_ = load_dotenv()\n",
    "\n",
    "region = \"eu-west-1\"\n",
    "recreate_lambdas = False\n",
    "\n",
    "# Runtime Endpoints\n",
    "bedrock_rt_client = boto3.client(\n",
    "    \"bedrock-agent-runtime\",\n",
    "    region_name=region\n",
    ")"
   ],
   "outputs": [],
   "execution_count": null
  },
  {
   "metadata": {},
   "cell_type": "code",
   "source": [
    "session_id = str(uuid.uuid4())\n",
    "model_id = \"eu.amazon.nova-lite-v1:0\"\n",
    "instruction = (\n",
    "    \"You are a scheduling assistant. You help in checking the availability of people. Do not make up \"\n",
    "    \"availability if you do not know the person's schedule. Answer in short sentences, stick to the \"\n",
    "    \"answer to the question.\"\n",
    ")\n",
    "\n",
    "request_params = {\n",
    "    \"enableTrace\": True,\n",
    "    \"endSession\": False,\n",
    "    \"foundationModel\": model_id,\n",
    "    \"instruction\": instruction,\n",
    "    \"sessionId\": session_id\n",
    "}"
   ],
   "id": "e73d58c4b0de4717",
   "outputs": [],
   "execution_count": null
  },
  {
   "metadata": {},
   "cell_type": "code",
   "source": [
    "request_params[\"inputText\"] = \"Can you help me schedule an appointment with Bob?\"\n",
    "\n",
    "invoke_inline_agent_helper(bedrock_rt_client, request_params, trace_level=\"core\")"
   ],
   "id": "f69ca55d569ce687",
   "outputs": [],
   "execution_count": null
  },
  {
   "metadata": {},
   "cell_type": "code",
   "source": [
    "# run lambda function creation\n",
    "from lambda_creator import create_lambda_function_and_its_resources, remove_lambda_function_and_its_resources\n",
    "import os\n",
    "\n",
    "sts_client = boto3.client(\"sts\")\n",
    "account_id = sts_client.get_caller_identity()[\"Account\"]\n",
    "\n",
    "present_directory = os.getcwd()\n",
    "lambda_function_code_path = str(present_directory) + \"/lambdas/lambda_function_schedule.py\"\n",
    "\n",
    "# Create all resources\n",
    "resources = create_lambda_function_and_its_resources(\n",
    "    region=region,\n",
    "    account_id=account_id,\n",
    "    custom_name=f\"inlineagent-scheduler\",\n",
    "    lambda_code_path=lambda_function_code_path\n",
    ")\n",
    "\n",
    "# Access the created resources\n",
    "lambda_function = resources['lambda_function']\n",
    "lambda_function_arn = lambda_function['FunctionArn']\n",
    "print(lambda_function_arn)\n"
   ],
   "id": "3556c808ee65ac29",
   "outputs": [],
   "execution_count": null
  },
  {
   "metadata": {},
   "cell_type": "code",
   "source": [
    "present_directory = os.getcwd()\n",
    "payload_schedule_path = str(present_directory) + \"/lambdas/payload-schedule.json\"\n",
    "\n",
    "# Load the OpenAPI schema as a json file\n",
    "fetch_schedule_payload = load_json_file(payload_schedule_path)\n",
    "\n",
    "apply_schedule_tool = {\n",
    "    \"actionGroupName\": \"FetchSchedule\",\n",
    "    \"actionGroupExecutor\": {\n",
    "        \"lambda\": lambda_function_arn\n",
    "    },\n",
    "    \"apiSchema\": {\n",
    "        \"payload\": fetch_schedule_payload\n",
    "    },\n",
    "    \"description\": \"Find availability of a person\"\n",
    "}\n",
    "\n",
    "request_params[\"actionGroups\"] = [apply_schedule_tool]"
   ],
   "id": "48bd272dd6cb7181",
   "outputs": [],
   "execution_count": null
  },
  {
   "metadata": {},
   "cell_type": "code",
   "source": [
    "request_params[\"inputText\"] = \"Schedule a meeting with Bob after 2025-04-07\"\n",
    "\n",
    "invoke_inline_agent_helper(bedrock_rt_client, request_params, trace_level=\"core\")"
   ],
   "id": "baf17c4996ba16ea",
   "outputs": [],
   "execution_count": null
  },
  {
   "metadata": {},
   "cell_type": "code",
   "source": [
    "request_params[\n",
    "    \"inputText\"] = \"Yes, please schedule the meeting for the thursday in the morning after the 7th of April 2025\"\n",
    "\n",
    "invoke_inline_agent_helper(bedrock_rt_client, request_params, trace_level=\"core\")"
   ],
   "id": "143e083213942b6b",
   "outputs": [],
   "execution_count": null
  },
  {
   "metadata": {},
   "cell_type": "code",
   "source": [
    "# Warning only run this cell when you are done ...\n",
    "\n",
    "remove_lambda_function_and_its_resources(\n",
    "    region=region,\n",
    "    account_id=account_id,\n",
    "    custom_name=f\"inlineagent-scheduler\",\n",
    ")"
   ],
   "id": "780128541596d532",
   "outputs": [],
   "execution_count": null
  }
 ],
 "metadata": {
  "kernelspec": {
   "display_name": "Python 3",
   "language": "python",
   "name": "python3"
  },
  "language_info": {
   "codemirror_mode": {
    "name": "ipython",
    "version": 2
   },
   "file_extension": ".py",
   "mimetype": "text/x-python",
   "name": "python",
   "nbconvert_exporter": "python",
   "pygments_lexer": "ipython2",
   "version": "2.7.6"
  }
 },
 "nbformat": 4,
 "nbformat_minor": 5
}
